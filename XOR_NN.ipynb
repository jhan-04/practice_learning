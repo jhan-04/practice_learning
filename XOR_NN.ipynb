{
  "nbformat": 4,
  "nbformat_minor": 0,
  "metadata": {
    "colab": {
      "name": "XOR_NN.ipynb",
      "provenance": [],
      "collapsed_sections": [],
      "authorship_tag": "ABX9TyMJ6v+N8EU9WZ7bQ9ptvps4",
      "include_colab_link": true
    },
    "kernelspec": {
      "name": "python3",
      "display_name": "Python 3"
    },
    "language_info": {
      "name": "python"
    },
    "accelerator": "GPU",
    "gpuClass": "standard"
  },
  "cells": [
    {
      "cell_type": "markdown",
      "metadata": {
        "id": "view-in-github",
        "colab_type": "text"
      },
      "source": [
        "<a href=\"https://colab.research.google.com/github/jhan-04/practice_learning/blob/main/XOR_NN.ipynb\" target=\"_parent\"><img src=\"https://colab.research.google.com/assets/colab-badge.svg\" alt=\"Open In Colab\"/></a>"
      ]
    },
    {
      "cell_type": "code",
      "execution_count": null,
      "metadata": {
        "id": "3948uy5Dfq3C",
        "colab": {
          "base_uri": "https://localhost:8080/"
        },
        "outputId": "f33033d6-8d92-49c4-c3b0-a08bb70e6b20"
      },
      "outputs": [
        {
          "output_type": "stream",
          "name": "stdout",
          "text": [
            "[[0, 0], [0, 1], [1, 0], [1, 1]] [[0], [1], [1], [0]]\n"
          ]
        }
      ],
      "source": [
        "from tensorflow import keras\n",
        "from tensorflow import *\n",
        "\n",
        "import numpy as np\n",
        "\n",
        "model = keras.models.Sequential([keras.layers.Dense(2),\n",
        "                          keras.layers.Dense(2,activation='tanh'),\n",
        "                          keras.layers.Dense(4, activation='relu'),\n",
        "                          keras.layers.Dense(2, activation='softmax'),\n",
        "                          keras.layers.Dense(1, activation='sigmoid')])\n",
        "\n",
        "\n",
        "model.compile(optimizer='adam', loss='binary_crossentropy', metrics=['accuracy'])\n",
        "\n",
        "x=[[0,0],[0,1],[1,0],[1,1]]\n",
        "y=[[0],[1],[1],[0]]\n",
        "\n",
        "print(x,y)\n",
        " #'sgd'\n",
        "hist = model.fit(x, y,verbose=0, batch_size=32, epochs=600)\n",
        "\n"
      ]
    },
    {
      "cell_type": "code",
      "source": [
        "from matplotlib import pyplot as plt\n",
        "\n",
        "plt.subplot(1,2,1)\n",
        "plt.plot(hist.history['accuracy'])\n",
        "plt.title('Model accuracy')\n",
        "plt.xlabel('Epoch')\n",
        "plt.ylabel('Accuracy')\n",
        "plt.subplot(1,2,2)\n",
        "plt.plot(hist.history['loss'])\n",
        "plt.title('Model loss')\n",
        "plt.xlabel('Epoch')\n",
        "plt.ylabel('Loss')\n",
        "plt.show()"
      ],
      "metadata": {
        "id": "-AsxPWeSgvnz",
        "colab": {
          "base_uri": "https://localhost:8080/",
          "height": 295
        },
        "outputId": "02ca0d10-62c0-46b6-806b-b6de1991a7c9"
      },
      "execution_count": null,
      "outputs": [
        {
          "output_type": "display_data",
          "data": {
            "text/plain": [
              "<Figure size 432x288 with 2 Axes>"
            ],
            "image/png": "[encoded data removed]"
          },
          "metadata": {
            "needs_background": "light"
          }
        }
      ]
    },
    {
      "cell_type": "code",
      "source": [
        "from pyparsing import results\n",
        "x_t=[[0,1],[0,0],[1,0],[1,1]]\n",
        "y_t=[[1],[0],[1],[0]]\n",
        "\n",
        "err, acc = model.evaluate(x_t,y_t, verbose=2)\n",
        "results= model.evaluate(x_t,y_t, verbose=2)\n",
        "print(err, acc,'\\n results=',results)"
      ],
      "metadata": {
        "colab": {
          "base_uri": "https://localhost:8080/"
        },
        "id": "yowE6UYjt4_x",
        "outputId": "e7e2dcf8-de9b-46e8-c433-af501a928f95"
      },
      "execution_count": null,
      "outputs": [
        {
          "output_type": "stream",
          "name": "stdout",
          "text": [
            "1/1 - 0s - loss: 0.3515 - accuracy: 1.0000 - 28ms/epoch - 28ms/step\n",
            "1/1 - 0s - loss: 0.3515 - accuracy: 1.0000 - 26ms/epoch - 26ms/step\n",
            "0.3515323996543884 1.0 \n",
            " results= [0.3515323996543884, 1.0]\n"
          ]
        }
      ]
    }
  ]
}